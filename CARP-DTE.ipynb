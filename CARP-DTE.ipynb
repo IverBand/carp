{
    "cells": [
        {
            "cell_type": "markdown",
            "metadata": {},
            "source": "# Chronic Absenteeism Rate Prediction (CARP) Decision Tree Ensemble (DTE) Modeling"
        },
        {
            "cell_type": "markdown",
            "metadata": {},
            "source": "### Make preparations specific to IBM Watson Studio:  import and configure project utilities, define function to download project assets"
        },
        {
            "cell_type": "code",
            "execution_count": 1,
            "metadata": {},
            "outputs": [],
            "source": "# The code was removed by Watson Studio for sharing."
        },
        {
            "cell_type": "code",
            "execution_count": 2,
            "metadata": {},
            "outputs": [],
            "source": "# function to retrieve project assets \ndef download(project_file_name,project=None):    \n    # get the file\n    print(\"Attempting to get file {}\".format(project_file_name))\n    _bytes = project.get_file(project_file_name).read()\n    \n    # download the file\n    print(\"Downloading...\")\n    \n    with open(project_file_name, 'wb') as f: \n        f.write(bytearray(_bytes))\n        print(\"Completed writing out file\")\n        \n    return 0"
        },
        {
            "cell_type": "markdown",
            "metadata": {},
            "source": "### Import required modules"
        },
        {
            "cell_type": "code",
            "execution_count": 3,
            "metadata": {},
            "outputs": [],
            "source": "import numpy as np\nimport pandas as pd\n\nimport re\n\nimport pickle\n\nfrom sklearn import metrics\nfrom sklearn.tree import DecisionTreeRegressor\nfrom sklearn.ensemble import AdaBoostRegressor\nfrom sklearn.model_selection import train_test_split, cross_val_score, KFold"
        },
        {
            "cell_type": "markdown",
            "metadata": {},
            "source": "### Download datasets and recreate data created with CARP-ETL notebook"
        },
        {
            "cell_type": "code",
            "execution_count": 4,
            "metadata": {},
            "outputs": [
                {
                    "name": "stdout",
                    "output_type": "stream",
                    "text": "Attempting to get file la_county_2018_chronic_absence_rates_with_predictor_variables.csv\nDownloading...\nCompleted writing out file\nAttempting to get file ranked_correlates.csv\nDownloading...\nCompleted writing out file\n\n***Prepared Data***\n        Year    Percent  Count  Total  Tract_Nbr   Income  Pct_HS  Pct_Bach  Pct_Eng  Pct_White  Pct_Black  Pct_Native  Pct_Asian  Pct_Pac_Isl  Pct_Other  Pct_Mixed  Pct_LF_Part  Pct_EP_Ratio  Pct_Unemp  Pct_Dis_0-18  \\\nTract                                                                                                                                                                                                                      \n101110  2018  11.076923     36    325     101110  51209.0    78.6      21.5     78.3  77.489177   2.040816    0.000000   4.761905          0.0  12.059369   3.648732         62.7          56.6        9.6      3.364486   \n101122  2018   9.251102     21    227     101122  85460.0    91.8      25.7     88.7  86.359901   0.000000    0.986031   8.052588          0.0   3.779786   0.821693         75.0          69.3        7.6      8.959538   \n101210  2018  11.466666     43    375     101210  34627.0    74.1      16.6     64.0  80.000000   2.961373    0.000000   3.090129          0.0  13.004292   0.944206         69.3          62.4        9.9      3.129161   \n101220  2018   7.203390     17    236     101220  40273.0    79.4      18.7     68.2  66.348449   1.670644    0.000000  14.240255          0.0  11.137629   6.603023         57.3          53.2        7.0      0.000000   \n101300  2018   7.453416     36    483     101300  81076.0    86.1      30.3     85.6  89.011748   1.313062    0.000000   5.805114          0.0   2.695232   1.174845         54.4          48.8       10.3      8.395522   \n\n        Pct_Dis_19-64  Pct_Dis_65+  Pct_Hour_Commute  Pct_Male_Hour_Commute  Pct_Female_Hour_Commute  Avg_Min_Commute  Avg_Min_Male_Commute  Avg_Min_Female_Commute  Pct_Male_Ins  Pct_Female_Ins  Pct_Married  \\\nTract                                                                                                                                                                                                            \n101110       6.558533    45.034247              20.0                   21.2                     18.6             36.4                  37.0                    35.6     94.376528       87.234043         46.9   \n101122       8.068903    33.928571              18.7                   18.5                     18.8             40.4                  40.2                    40.8    100.000000       84.513274         57.9   \n101210      16.438021    50.762527              11.7                    5.6                     19.2             29.0                  27.2                    31.2    100.000000       96.624473         43.7   \n101220      11.739745    62.500000               6.6                    4.3                      9.5             28.8                  28.3                    29.3     89.430894      100.000000         48.0   \n101300       8.966245    44.405594              15.5                    8.9                     20.9             32.9                  29.1                    35.9    100.000000      100.000000         51.5   \n\n        Pct_Widowed  Pct_Divorced  Pct_Separated  Pct_Never_Married  Pct_US_Born_Citizen  Pct_US_Terr_Born_Citizen  Pct_Foreign_Born_Citizen  Pct_Naturalized_Citizen  Pct_Non_Citizen  Pct_Moved_In_County  \\\nTract                                                                                                                                                                                                         \n101110          6.0          11.5            1.2               34.5            65.418309                  0.000000                  1.905388                21.309680        11.366623                  2.6   \n101122          4.0           9.5            2.9               25.7            67.232376                  0.000000                  5.450392                24.477807         2.839426                  4.5   \n101210          4.4           8.2            4.4               39.2            50.405428                  0.000000                  1.390038                27.271223        20.933311                  3.7   \n101220          7.4           8.8            2.7               33.2            48.832335                  0.000000                  1.017964                31.766467        18.383234                  5.4   \n101300          6.8          10.3            0.1               31.2            61.143524                  0.210035                  1.470245                32.648775         4.527421                  4.7   \n\n        Pct_Moved_Diff_County  Pct_Moved_Diff_State  Pct_Moved_Intl  \nTract                                                                \n101110                    3.3                   0.7             0.0  \n101122                    5.0                   0.0             0.0  \n101210                    0.0                   0.0             0.0  \n101220                    0.3                   0.5             1.6  \n101300                    0.0                   0.8             0.0  \n\n***Top Correlates***\n     Correlate\n0    Pct_Black\n1     Pct_Bach\n2       Income\n3       Pct_HS\n4  Pct_Married\n"
                }
            ],
            "source": "abs_file_name = 'la_county_2018_chronic_absence_rates_with_predictor_variables.csv'\ndownload(abs_file_name,project)\nabs_18 = pd.read_csv(abs_file_name, index_col='Tract')\nnp.set_printoptions(linewidth=250)\nranked_corr_file_name = 'ranked_correlates.csv'\ndownload(ranked_corr_file_name,project)\nranked_corr = pd.read_csv(ranked_corr_file_name,header=None,names=['Correlate'])\npd.set_option('display.max_columns', 50)\npd.set_option('display.width', 220)\nprint('\\n***Prepared Data***')\nprint(abs_18.head())\nprint('\\n***Top Correlates***')\nprint(ranked_corr.head())"
        },
        {
            "cell_type": "markdown",
            "metadata": {},
            "source": "### Define and run decision tree ensemble model"
        },
        {
            "cell_type": "code",
            "execution_count": 5,
            "metadata": {},
            "outputs": [
                {
                    "data": {
                        "text/plain": "(0, 44)"
                    },
                    "execution_count": 5,
                    "metadata": {},
                    "output_type": "execute_result"
                }
            ],
            "source": "abs_18[abs_18.isnull().any(axis=1)].shape"
        },
        {
            "cell_type": "code",
            "execution_count": 9,
            "metadata": {},
            "outputs": [
                {
                    "name": "stdout",
                    "output_type": "stream",
                    "text": "\nIteration 1:\n\nTrain r2 Score: 0.9960272074600577 Test r2 Score: 0.5983189235396512\n\nIteration 2:\n\nTrain r2 Score: 0.9960074735770638 Test r2 Score: 0.6516384462238736\n\nIteration 3:\n\nTrain r2 Score: 0.9961653638237584 Test r2 Score: 0.6601956131029549\n\nIteration 4:\n\nTrain r2 Score: 0.9958769941537481 Test r2 Score: 0.66127481116916\n\nIteration 5:\n\nTrain r2 Score: 0.9955830601824529 Test r2 Score: 0.5966527360082517\n\nAverage test score: 0.6336161060087784\n"
                }
            ],
            "source": "# Select variables most highly correlated with target for model fitting -- this eliminates some noise\ninput_dim = -1 #use all predictor variables, since decision \nvariables = list(ranked_corr[:input_dim]['Correlate'].values)\n\n# Define predictor and target while capturing mean and standard deviation to reinflate scaled data\n\nX = abs_18[variables]\nX_mean,X_std = X.mean(),X.std()\ny = abs_18['Percent']\ny_mean,y_std = y.mean(),y.std()\n\n\n\n# Set parameters for iterative model fitting and prediction\n\ntarget_iterations = 5\n\n# Define lists to accumulate the results of each iteration\n\ntrain_scores=[]\ntest_scores=[]\nX_tests=[]\ny_tests=[]\ny_test_preds=[]\n\n# Define ensemble decision tree regression model\nestimator=AdaBoostRegressor(DecisionTreeRegressor(max_depth=20),n_estimators=600, learning_rate=1.0, loss='square')\n\n# Iterate model fitting and prediction specified number of times while capturing results for model evaluation\ntotal_test_score = 0\nfor iteration in range (target_iterations):\n    \n    iteration += 1\n    print(f'\\nIteration {iteration}:\\n')\n    \n    X_train, X_test, y_train, y_test = train_test_split(X, y, test_size=0.2, shuffle=True, random_state=iteration)\n\n    estimator.fit(X_train, y_train)\n    y_train_pred=estimator.predict(X_train)\n    y_test_pred=estimator.predict(X_test)\n\n    train_score = metrics.r2_score(y_train,y_train_pred)\n    test_score = metrics.r2_score(y_test,y_test_pred)\n    print('Train r2 Score:', train_score,'Test r2 Score:', test_score)\n        \n    X_tests.append(X_test)\n    y_tests.append(y_test)\n    y_test_preds.append(y_test_pred)\n    train_scores.append(train_score)\n    test_scores.append(test_score)\n    \n    total_test_score += test_score\n\nprint ('\\nAverage test score:',total_test_score / target_iterations)"
        },
        {
            "cell_type": "markdown",
            "metadata": {},
            "source": "### Save model results as project assets for evaluation by CARP-EVAL notebook"
        },
        {
            "cell_type": "code",
            "execution_count": 7,
            "metadata": {
                "scrolled": false
            },
            "outputs": [
                {
                    "data": {
                        "text/plain": "{'file_name': 'dte_results.p',\n 'message': 'File saved to project storage.',\n 'bucket_name': 'iverpyspark-donotdelete-pr-ysp8udweullapt',\n 'asset_id': '9f673bff-b75b-455a-833f-06391a602df2'}"
                    },
                    "execution_count": 7,
                    "metadata": {},
                    "output_type": "execute_result"
                }
            ],
            "source": "dte_results_file_name = 'dte_results.p'\ndte_results=dict(X_mean=X_mean, X_std=X_std, X_tests=X_tests, y_tests=y_tests,y_test_preds=y_test_preds, train_scores=train_scores, test_scores=test_scores)\npickled_dte_results = pickle.dumps(dte_results)\nproject.save_data(dte_results_file_name, pickled_dte_results, set_project_asset=True, overwrite=True)"
        }
    ],
    "metadata": {
        "kernelspec": {
            "display_name": "Python 3.6",
            "language": "python",
            "name": "python3"
        },
        "language_info": {
            "codemirror_mode": {
                "name": "ipython",
                "version": 3
            },
            "file_extension": ".py",
            "mimetype": "text/x-python",
            "name": "python",
            "nbconvert_exporter": "python",
            "pygments_lexer": "ipython3",
            "version": "3.6.8"
        }
    },
    "nbformat": 4,
    "nbformat_minor": 1
}